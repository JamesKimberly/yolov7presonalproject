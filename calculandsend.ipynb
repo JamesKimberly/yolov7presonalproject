{
 "cells": [
  {
   "cell_type": "code",
   "execution_count": 1,
   "id": "c89b9dd5",
   "metadata": {},
   "outputs": [],
   "source": [
    "import numpy as np\n",
    "import pandas as pd\n",
    "import zipfile\n",
    "import glob\n",
    "from IPython.display import Image, display, clear_output\n",
    "import torch\n",
    "import os\n",
    "import math"
   ]
  },
  {
   "cell_type": "code",
   "execution_count": 2,
   "id": "ed25740a",
   "metadata": {},
   "outputs": [],
   "source": [
    "def change_dir(path):\n",
    "    os.chdir(path)"
   ]
  },
  {
   "cell_type": "code",
   "execution_count": 3,
   "id": "a82e7d9f",
   "metadata": {},
   "outputs": [],
   "source": [
    "#병 추출 함수\n",
    "def defini(imsibun):\n",
    "    if imsibun == 1:\n",
    "        eee = '고추탄저병'\n",
    "        return  eee\n",
    "    elif imsibun == 2:\n",
    "        ee = '정상(고추)'\n",
    "        return ee\n",
    "    else:\n",
    "        e = '고추흰가루병'\n",
    "        return e\n",
    "        #항목 추가하려면 elif써서 추가"
   ]
  },
  {
   "cell_type": "code",
   "execution_count": 4,
   "id": "50d0139b",
   "metadata": {},
   "outputs": [],
   "source": [
    "#확률 추출 함수\n",
    "def avgg(imsibun2):\n",
    "    ee3 = 0\n",
    "    df2 = 0\n",
    "    for i in range(imsibun2):\n",
    "        e3=lines[ee3][38:45] # 확률 슬라이싱\n",
    "        de= float(e3) #확률 str->float로 변환\n",
    "        df= round(de, 2) #소숫점 둘째자리까지 반올림\n",
    "        ee3 += 1\n",
    "        df2 += df\n",
    "    return df2\n",
    "    "
   ]
  },
  {
   "cell_type": "code",
   "execution_count": 5,
   "id": "3cdeb8b3",
   "metadata": {},
   "outputs": [],
   "source": [
    "#저장된 사진 경로 판별 및 변경\n",
    "def filenum(imsibun3):\n",
    "    if imsibun3 == 1:\n",
    "        change_dir('C:/Users/user/Desktop/content/runs/detect/exp')\n",
    "    else:\n",
    "        a=str(imsibun3)\n",
    "        imsii = 'exp'+a\n",
    "        change_dir('C:/Users/user/Desktop/content/runs/detect/'+imsii)"
   ]
  },
  {
   "cell_type": "code",
   "execution_count": 6,
   "id": "4c37f6d0",
   "metadata": {},
   "outputs": [
    {
     "name": "stdout",
     "output_type": "stream",
     "text": [
      "C:\\Users\\user\\Desktop\\content\\yolov7\n"
     ]
    }
   ],
   "source": [
    "%cd yolov7"
   ]
  },
  {
   "cell_type": "code",
   "execution_count": 7,
   "id": "bf14565f",
   "metadata": {
    "collapsed": true
   },
   "outputs": [
    {
     "name": "stdout",
     "output_type": "stream",
     "text": [
      "Requirement already satisfied: matplotlib>=3.2.2 in c:\\users\\user\\anaconda3\\lib\\site-packages (from -r requirements.txt (line 4)) (3.5.2)\n",
      "Requirement already satisfied: numpy>=1.18.5 in c:\\users\\user\\anaconda3\\lib\\site-packages (from -r requirements.txt (line 5)) (1.21.5)\n",
      "Requirement already satisfied: opencv-python>=4.1.1 in c:\\users\\user\\appdata\\roaming\\python\\python39\\site-packages (from -r requirements.txt (line 6)) (4.6.0.66)\n",
      "Requirement already satisfied: Pillow>=7.1.2 in c:\\users\\user\\anaconda3\\lib\\site-packages (from -r requirements.txt (line 7)) (9.2.0)\n",
      "Requirement already satisfied: PyYAML>=5.3.1 in c:\\users\\user\\anaconda3\\lib\\site-packages (from -r requirements.txt (line 8)) (6.0)\n",
      "Requirement already satisfied: requests>=2.23.0 in c:\\users\\user\\anaconda3\\lib\\site-packages (from -r requirements.txt (line 9)) (2.28.1)\n",
      "Requirement already satisfied: scipy>=1.4.1 in c:\\users\\user\\anaconda3\\lib\\site-packages (from -r requirements.txt (line 10)) (1.9.1)\n",
      "Requirement already satisfied: torch!=1.12.0,>=1.7.0 in c:\\users\\user\\anaconda3\\lib\\site-packages (from -r requirements.txt (line 11)) (1.13.0)\n",
      "Requirement already satisfied: torchvision!=0.13.0,>=0.8.1 in c:\\users\\user\\appdata\\roaming\\python\\python39\\site-packages (from -r requirements.txt (line 12)) (0.14.0)\n",
      "Requirement already satisfied: tqdm>=4.41.0 in c:\\users\\user\\anaconda3\\lib\\site-packages (from -r requirements.txt (line 13)) (4.64.1)\n",
      "Requirement already satisfied: protobuf<4.21.3 in c:\\users\\user\\anaconda3\\lib\\site-packages (from -r requirements.txt (line 14)) (3.20.3)\n",
      "Requirement already satisfied: tensorboard>=2.4.1 in c:\\users\\user\\anaconda3\\lib\\site-packages (from -r requirements.txt (line 17)) (2.11.0)\n",
      "Requirement already satisfied: pandas>=1.1.4 in c:\\users\\user\\anaconda3\\lib\\site-packages (from -r requirements.txt (line 21)) (1.4.4)\n",
      "Requirement already satisfied: seaborn>=0.11.0 in c:\\users\\user\\anaconda3\\lib\\site-packages (from -r requirements.txt (line 22)) (0.11.2)\n",
      "Requirement already satisfied: ipython in c:\\users\\user\\anaconda3\\lib\\site-packages (from -r requirements.txt (line 34)) (7.31.1)\n",
      "Requirement already satisfied: psutil in c:\\users\\user\\anaconda3\\lib\\site-packages (from -r requirements.txt (line 35)) (5.9.0)\n",
      "Requirement already satisfied: thop in c:\\users\\user\\anaconda3\\lib\\site-packages (from -r requirements.txt (line 36)) (0.1.1.post2209072238)\n",
      "Requirement already satisfied: fonttools>=4.22.0 in c:\\users\\user\\anaconda3\\lib\\site-packages (from matplotlib>=3.2.2->-r requirements.txt (line 4)) (4.25.0)\n",
      "Requirement already satisfied: cycler>=0.10 in c:\\users\\user\\appdata\\roaming\\python\\python39\\site-packages (from matplotlib>=3.2.2->-r requirements.txt (line 4)) (0.10.0)\n",
      "Requirement already satisfied: packaging>=20.0 in c:\\users\\user\\anaconda3\\lib\\site-packages (from matplotlib>=3.2.2->-r requirements.txt (line 4)) (21.3)\n",
      "Requirement already satisfied: pyparsing>=2.2.1 in c:\\users\\user\\appdata\\roaming\\python\\python39\\site-packages (from matplotlib>=3.2.2->-r requirements.txt (line 4)) (2.4.7)\n",
      "Requirement already satisfied: python-dateutil>=2.7 in c:\\users\\user\\anaconda3\\lib\\site-packages (from matplotlib>=3.2.2->-r requirements.txt (line 4)) (2.8.2)\n",
      "Requirement already satisfied: kiwisolver>=1.0.1 in c:\\users\\user\\anaconda3\\lib\\site-packages (from matplotlib>=3.2.2->-r requirements.txt (line 4)) (1.4.2)\n",
      "Requirement already satisfied: idna<4,>=2.5 in c:\\users\\user\\appdata\\roaming\\python\\python39\\site-packages (from requests>=2.23.0->-r requirements.txt (line 9)) (2.10)\n",
      "Requirement already satisfied: charset-normalizer<3,>=2 in c:\\users\\user\\anaconda3\\lib\\site-packages (from requests>=2.23.0->-r requirements.txt (line 9)) (2.0.4)\n",
      "Requirement already satisfied: urllib3<1.27,>=1.21.1 in c:\\users\\user\\appdata\\roaming\\python\\python39\\site-packages (from requests>=2.23.0->-r requirements.txt (line 9)) (1.26.6)\n",
      "Requirement already satisfied: certifi>=2017.4.17 in c:\\users\\user\\appdata\\roaming\\python\\python39\\site-packages (from requests>=2.23.0->-r requirements.txt (line 9)) (2021.5.30)\n",
      "Requirement already satisfied: typing-extensions in c:\\users\\user\\anaconda3\\lib\\site-packages (from torch!=1.12.0,>=1.7.0->-r requirements.txt (line 11)) (4.3.0)\n",
      "Requirement already satisfied: colorama in c:\\users\\user\\anaconda3\\lib\\site-packages (from tqdm>=4.41.0->-r requirements.txt (line 13)) (0.4.5)\n",
      "Requirement already satisfied: tensorboard-data-server<0.7.0,>=0.6.0 in c:\\users\\user\\appdata\\roaming\\python\\python39\\site-packages (from tensorboard>=2.4.1->-r requirements.txt (line 17)) (0.6.1)\n",
      "Requirement already satisfied: google-auth<3,>=1.6.3 in c:\\users\\user\\anaconda3\\lib\\site-packages (from tensorboard>=2.4.1->-r requirements.txt (line 17)) (2.14.1)\n",
      "Requirement already satisfied: markdown>=2.6.8 in c:\\users\\user\\anaconda3\\lib\\site-packages (from tensorboard>=2.4.1->-r requirements.txt (line 17)) (3.3.4)\n",
      "Requirement already satisfied: tensorboard-plugin-wit>=1.6.0 in c:\\users\\user\\appdata\\roaming\\python\\python39\\site-packages (from tensorboard>=2.4.1->-r requirements.txt (line 17)) (1.8.1)\n",
      "Requirement already satisfied: setuptools>=41.0.0 in c:\\users\\user\\anaconda3\\lib\\site-packages (from tensorboard>=2.4.1->-r requirements.txt (line 17)) (63.4.1)\n",
      "Requirement already satisfied: google-auth-oauthlib<0.5,>=0.4.1 in c:\\users\\user\\appdata\\roaming\\python\\python39\\site-packages (from tensorboard>=2.4.1->-r requirements.txt (line 17)) (0.4.6)\n",
      "Requirement already satisfied: wheel>=0.26 in c:\\users\\user\\anaconda3\\lib\\site-packages (from tensorboard>=2.4.1->-r requirements.txt (line 17)) (0.37.1)\n",
      "Requirement already satisfied: grpcio>=1.24.3 in c:\\users\\user\\anaconda3\\lib\\site-packages (from tensorboard>=2.4.1->-r requirements.txt (line 17)) (1.50.0)\n",
      "Requirement already satisfied: werkzeug>=1.0.1 in c:\\users\\user\\anaconda3\\lib\\site-packages (from tensorboard>=2.4.1->-r requirements.txt (line 17)) (2.0.3)\n",
      "Requirement already satisfied: absl-py>=0.4 in c:\\users\\user\\appdata\\roaming\\python\\python39\\site-packages (from tensorboard>=2.4.1->-r requirements.txt (line 17)) (1.3.0)\n",
      "Requirement already satisfied: pytz>=2020.1 in c:\\users\\user\\anaconda3\\lib\\site-packages (from pandas>=1.1.4->-r requirements.txt (line 21)) (2022.1)\n",
      "Requirement already satisfied: backcall in c:\\users\\user\\anaconda3\\lib\\site-packages (from ipython->-r requirements.txt (line 34)) (0.2.0)\n",
      "Requirement already satisfied: decorator in c:\\users\\user\\anaconda3\\lib\\site-packages (from ipython->-r requirements.txt (line 34)) (5.1.1)\n",
      "Requirement already satisfied: pickleshare in c:\\users\\user\\anaconda3\\lib\\site-packages (from ipython->-r requirements.txt (line 34)) (0.7.5)\n",
      "Requirement already satisfied: traitlets>=4.2 in c:\\users\\user\\anaconda3\\lib\\site-packages (from ipython->-r requirements.txt (line 34)) (5.1.1)\n",
      "Requirement already satisfied: matplotlib-inline in c:\\users\\user\\anaconda3\\lib\\site-packages (from ipython->-r requirements.txt (line 34)) (0.1.6)\n",
      "Requirement already satisfied: jedi>=0.16 in c:\\users\\user\\anaconda3\\lib\\site-packages (from ipython->-r requirements.txt (line 34)) (0.18.1)\n",
      "Requirement already satisfied: pygments in c:\\users\\user\\anaconda3\\lib\\site-packages (from ipython->-r requirements.txt (line 34)) (2.11.2)\n",
      "Requirement already satisfied: prompt-toolkit!=3.0.0,!=3.0.1,<3.1.0,>=2.0.0 in c:\\users\\user\\anaconda3\\lib\\site-packages (from ipython->-r requirements.txt (line 34)) (3.0.20)\n",
      "Requirement already satisfied: six in c:\\users\\user\\anaconda3\\lib\\site-packages (from cycler>=0.10->matplotlib>=3.2.2->-r requirements.txt (line 4)) (1.16.0)\n",
      "Requirement already satisfied: pyasn1-modules>=0.2.1 in c:\\users\\user\\anaconda3\\lib\\site-packages (from google-auth<3,>=1.6.3->tensorboard>=2.4.1->-r requirements.txt (line 17)) (0.2.8)\n",
      "Requirement already satisfied: cachetools<6.0,>=2.0.0 in c:\\users\\user\\anaconda3\\lib\\site-packages (from google-auth<3,>=1.6.3->tensorboard>=2.4.1->-r requirements.txt (line 17)) (5.2.0)\n",
      "Requirement already satisfied: rsa<5,>=3.1.4 in c:\\users\\user\\anaconda3\\lib\\site-packages (from google-auth<3,>=1.6.3->tensorboard>=2.4.1->-r requirements.txt (line 17)) (4.9)\n",
      "Requirement already satisfied: requests-oauthlib>=0.7.0 in c:\\users\\user\\appdata\\roaming\\python\\python39\\site-packages (from google-auth-oauthlib<0.5,>=0.4.1->tensorboard>=2.4.1->-r requirements.txt (line 17)) (1.3.1)\n",
      "Requirement already satisfied: parso<0.9.0,>=0.8.0 in c:\\users\\user\\anaconda3\\lib\\site-packages (from jedi>=0.16->ipython->-r requirements.txt (line 34)) (0.8.3)\n",
      "Requirement already satisfied: wcwidth in c:\\users\\user\\anaconda3\\lib\\site-packages (from prompt-toolkit!=3.0.0,!=3.0.1,<3.1.0,>=2.0.0->ipython->-r requirements.txt (line 34)) (0.2.5)\n",
      "Requirement already satisfied: pyasn1<0.5.0,>=0.4.6 in c:\\users\\user\\anaconda3\\lib\\site-packages (from pyasn1-modules>=0.2.1->google-auth<3,>=1.6.3->tensorboard>=2.4.1->-r requirements.txt (line 17)) (0.4.8)\n",
      "Requirement already satisfied: oauthlib>=3.0.0 in c:\\users\\user\\appdata\\roaming\\python\\python39\\site-packages (from requests-oauthlib>=0.7.0->google-auth-oauthlib<0.5,>=0.4.1->tensorboard>=2.4.1->-r requirements.txt (line 17)) (3.2.2)\n"
     ]
    }
   ],
   "source": [
    "!pip install -r requirements.txt"
   ]
  },
  {
   "cell_type": "code",
   "execution_count": 8,
   "id": "2454ec04",
   "metadata": {},
   "outputs": [
    {
     "name": "stdout",
     "output_type": "stream",
     "text": [
      "C:\\Users\\user\\Desktop\\content\n"
     ]
    }
   ],
   "source": [
    "%cd ../"
   ]
  },
  {
   "cell_type": "code",
   "execution_count": 9,
   "id": "d1b6295a",
   "metadata": {},
   "outputs": [
    {
     "name": "stdout",
     "output_type": "stream",
     "text": [
      "Namespace(weights=['best.pt'], source='images', img_size=640, conf_thres=0.1, iou_thres=0.45, device='', view_img=False, save_txt=True, save_conf=True, nosave=False, classes=None, agnostic_nms=False, augment=False, update=False, project='runs/detect', name='exp', exist_ok=False, no_trace=False)\n",
      "Fusing layers... \n",
      "IDetect.fuse\n",
      " Convert model to Traced-model... \n",
      " traced_script_module saved! \n",
      " model is traced! \n",
      "\n",
      "4 peptans, Done. (1651.1ms) Inference, (3.0ms) NMS\n",
      " The image with the result is saved in: runs\\detect\\exp3\\img.png\n",
      "Done. (1.684s)\n"
     ]
    },
    {
     "name": "stderr",
     "output_type": "stream",
     "text": [
      "YOLOR  2022-10-8 torch 1.13.0+cpu CPU\n",
      "\n",
      "C:\\Users\\user\\anaconda3\\lib\\site-packages\\torch\\functional.py:504: UserWarning: torch.meshgrid: in an upcoming release, it will be required to pass the indexing argument. (Triggered internally at C:\\actions-runner\\_work\\pytorch\\pytorch\\builder\\windows\\pytorch\\aten\\src\\ATen\\native\\TensorShape.cpp:3191.)\n",
      "  return _VF.meshgrid(tensors, **kwargs)  # type: ignore[attr-defined]\n",
      "Model Summary: 362 layers, 70802658 parameters, 0 gradients, 188.0 GFLOPS\n"
     ]
    }
   ],
   "source": [
    "#메인분석코드\n",
    "!python yolov7/detect.py --weights best.pt --img 640 --conf 0.1 --save-txt --save-conf --source images"
   ]
  },
  {
   "cell_type": "code",
   "execution_count": 10,
   "id": "a6960152",
   "metadata": {},
   "outputs": [
    {
     "name": "stdout",
     "output_type": "stream",
     "text": [
      "C:\\Users\\user\\Desktop\\content\\runs\\detect\n"
     ]
    }
   ],
   "source": [
    "%cd runs/detect\n",
    "aaa = len(os.listdir())"
   ]
  },
  {
   "cell_type": "code",
   "execution_count": 11,
   "id": "602b2c24",
   "metadata": {},
   "outputs": [],
   "source": [
    "filenum(aaa)"
   ]
  },
  {
   "cell_type": "code",
   "execution_count": 12,
   "id": "b07e88ea",
   "metadata": {
    "scrolled": true
   },
   "outputs": [
    {
     "data": {
      "text/plain": [
       "['img.png', 'labels']"
      ]
     },
     "execution_count": 12,
     "metadata": {},
     "output_type": "execute_result"
    }
   ],
   "source": [
    "test = os.listdir() \n",
    "test #배열화해서 변수에 삽입"
   ]
  },
  {
   "cell_type": "code",
   "execution_count": 13,
   "id": "e43eecf1",
   "metadata": {},
   "outputs": [],
   "source": [
    "picname= os.path.splitext(test[0])[0]\n",
    "#사진 하나만 올릴 것인가?\n",
    "#사진 하나만 올리면 이걸 그대로 가져다 쓰면 되는데\n",
    "#여러개면 함수 하나 더 지어야 하나..."
   ]
  },
  {
   "cell_type": "code",
   "execution_count": 14,
   "id": "9560766e",
   "metadata": {},
   "outputs": [
    {
     "name": "stdout",
     "output_type": "stream",
     "text": [
      "C:\\Users\\user\\Desktop\\content\\runs\\detect\\exp3\\labels\n"
     ]
    }
   ],
   "source": [
    "%cd labels"
   ]
  },
  {
   "cell_type": "code",
   "execution_count": 15,
   "id": "17879c5a",
   "metadata": {},
   "outputs": [
    {
     "name": "stdout",
     "output_type": "stream",
     "text": [
      "['1 0.298551 0.455253 0.057971 0.18677 0.168037', '1 0.486957 0.891051 0.0521739 0.18677 0.199619', '1 0.502899 0.455253 0.113043 0.326848 0.559592', '1 0.688406 0.766537 0.130435 0.249027 0.716755']\n"
     ]
    }
   ],
   "source": [
    "filed = picname+\".txt\"\n",
    "with open(filed) as f:\n",
    "    lines=f.readlines()\n",
    "lines = [line.rstrip('\\n') for line in lines]\n",
    "print(lines)\n",
    "\n",
    "#1:고추탄저병 2:고추정상 3: 고추흰가루병 \n",
    "#배열 각 마지막 숫자가 퍼센트"
   ]
  },
  {
   "cell_type": "code",
   "execution_count": 16,
   "id": "04146517",
   "metadata": {},
   "outputs": [
    {
     "name": "stdout",
     "output_type": "stream",
     "text": [
      "1\n"
     ]
    },
    {
     "data": {
      "text/plain": [
       "'고추탄저병'"
      ]
     },
     "execution_count": 16,
     "metadata": {},
     "output_type": "execute_result"
    }
   ],
   "source": [
    "ea=lines[0][0]\n",
    "imsibun= int(ea)\n",
    "print(imsibun)\n",
    "print(defini(imsibun))\n",
    "send1=defini(imsibun)"
   ]
  },
  {
   "cell_type": "code",
   "execution_count": 17,
   "id": "b832c484",
   "metadata": {},
   "outputs": [
    {
     "name": "stdout",
     "output_type": "stream",
     "text": [
      "0.72\n",
      "0.72\n",
      "4\n"
     ]
    }
   ],
   "source": [
    "re = 0\n",
    "re1 = 0\n",
    "for i in range(len(lines)):\n",
    "    e3=lines[re][38:45] # 확률 슬라이싱\n",
    "    de= float(e3) #확률 str->float로 변환\n",
    "    df= round(de, 2) #소숫점 둘째자리까지 반올림\n",
    "    if re1 < df:\n",
    "        re1 = df\n",
    "    re += 1\n",
    "print(df)\n",
    "print(re1)\n",
    "send2=re1\n",
    "print(re)"
   ]
  },
  {
   "cell_type": "code",
   "execution_count": 18,
   "id": "588600a0",
   "metadata": {},
   "outputs": [],
   "source": [
    "a=len(lines)"
   ]
  },
  {
   "cell_type": "code",
   "execution_count": 19,
   "id": "9a4d59e7",
   "metadata": {},
   "outputs": [
    {
     "name": "stdout",
     "output_type": "stream",
     "text": [
      "4\n"
     ]
    }
   ],
   "source": [
    "print(len(lines))"
   ]
  },
  {
   "cell_type": "code",
   "execution_count": 20,
   "id": "7e4f29e2",
   "metadata": {},
   "outputs": [
    {
     "data": {
      "text/plain": [
       "1.65"
      ]
     },
     "execution_count": 20,
     "metadata": {},
     "output_type": "execute_result"
    }
   ],
   "source": [
    "avgg(a)"
   ]
  },
  {
   "cell_type": "code",
   "execution_count": 21,
   "id": "11aa06fa",
   "metadata": {},
   "outputs": [
    {
     "data": {
      "text/plain": [
       "0.4125"
      ]
     },
     "execution_count": 21,
     "metadata": {},
     "output_type": "execute_result"
    }
   ],
   "source": [
    "avgg(a)/a"
   ]
  },
  {
   "cell_type": "code",
   "execution_count": 48,
   "id": "dd97077b",
   "metadata": {},
   "outputs": [
    {
     "name": "stdout",
     "output_type": "stream",
     "text": [
      " * Serving Flask app '__main__'\n",
      " * Debug mode: off\n"
     ]
    },
    {
     "name": "stderr",
     "output_type": "stream",
     "text": [
      "WARNING: This is a development server. Do not use it in a production deployment. Use a production WSGI server instead.\n",
      " * Running on http://127.0.0.1:5050\n",
      "Press CTRL+C to quit\n"
     ]
    }
   ],
   "source": []
  },
  {
   "cell_type": "code",
   "execution_count": null,
   "id": "21c431f6",
   "metadata": {},
   "outputs": [],
   "source": []
  },
  {
   "cell_type": "code",
   "execution_count": null,
   "id": "c1d84596",
   "metadata": {},
   "outputs": [],
   "source": []
  },
  {
   "cell_type": "code",
   "execution_count": null,
   "id": "28396e25",
   "metadata": {},
   "outputs": [],
   "source": []
  },
  {
   "cell_type": "code",
   "execution_count": 23,
   "id": "ba775d57",
   "metadata": {},
   "outputs": [],
   "source": [
    "#filenum(3)"
   ]
  },
  {
   "cell_type": "code",
   "execution_count": 24,
   "id": "5ef966d1",
   "metadata": {},
   "outputs": [],
   "source": [
    "#a=str(3)\n",
    "#imsii = 'exp'+a\n",
    "#change_dir('C:/Users/user/Desktop/content/runs/detect/'+imsii)\n",
    "#경로 변경 함수"
   ]
  },
  {
   "cell_type": "code",
   "execution_count": 25,
   "id": "ebec2d06",
   "metadata": {},
   "outputs": [],
   "source": [
    "#print(os.getcwd())"
   ]
  },
  {
   "cell_type": "code",
   "execution_count": 26,
   "id": "ca731b38",
   "metadata": {
    "scrolled": false
   },
   "outputs": [],
   "source": [
    "#%cd /"
   ]
  },
  {
   "cell_type": "code",
   "execution_count": 27,
   "id": "29ce2f28",
   "metadata": {},
   "outputs": [],
   "source": [
    "# print(os.listdir(os.getcwd()))"
   ]
  },
  {
   "cell_type": "code",
   "execution_count": 28,
   "id": "249c7fc5",
   "metadata": {},
   "outputs": [],
   "source": [
    "# print(os.getcwd())"
   ]
  },
  {
   "cell_type": "code",
   "execution_count": 29,
   "id": "73064a64",
   "metadata": {},
   "outputs": [],
   "source": [
    "#file_path=\"runs/detect/exp\"++\"\"/labels"
   ]
  },
  {
   "cell_type": "code",
   "execution_count": 30,
   "id": "6734461e",
   "metadata": {},
   "outputs": [],
   "source": [
    "#%cd Desktop/content"
   ]
  },
  {
   "cell_type": "code",
   "execution_count": 31,
   "id": "501ace70",
   "metadata": {},
   "outputs": [],
   "source": [
    "#%cd runs/detect"
   ]
  },
  {
   "cell_type": "code",
   "execution_count": 32,
   "id": "832537c2",
   "metadata": {},
   "outputs": [],
   "source": [
    "#%cd runs/detect"
   ]
  },
  {
   "cell_type": "code",
   "execution_count": 33,
   "id": "fd34307f",
   "metadata": {},
   "outputs": [],
   "source": [
    "#os.listdir()"
   ]
  },
  {
   "cell_type": "code",
   "execution_count": 34,
   "id": "666c0a70",
   "metadata": {},
   "outputs": [],
   "source": [
    "#os.path.splitext(test[0])[0]"
   ]
  },
  {
   "cell_type": "code",
   "execution_count": 35,
   "id": "5e52b673",
   "metadata": {},
   "outputs": [],
   "source": [
    "#os.path.basename(test[1])"
   ]
  },
  {
   "cell_type": "code",
   "execution_count": 36,
   "id": "ef64ae29",
   "metadata": {},
   "outputs": [],
   "source": [
    "#len(lines[0:19])"
   ]
  },
  {
   "cell_type": "code",
   "execution_count": 37,
   "id": "83455878",
   "metadata": {},
   "outputs": [],
   "source": [
    "# a=0\n",
    "#test2 = []\n",
    "#d=len(test)"
   ]
  },
  {
   "cell_type": "code",
   "execution_count": 38,
   "id": "0ba4e755",
   "metadata": {},
   "outputs": [],
   "source": [
    "#test2 = []\n",
    "#a=0\n",
    "#for i in range(d):\n",
    " #   test2[a] = os.path.basename(test[a])\n",
    "  #  a += 1\n",
    "#test2"
   ]
  },
  {
   "cell_type": "code",
   "execution_count": 39,
   "id": "6f9e55d4",
   "metadata": {},
   "outputs": [],
   "source": [
    "#len(test)"
   ]
  },
  {
   "cell_type": "code",
   "execution_count": 40,
   "id": "6aab9c0e",
   "metadata": {},
   "outputs": [],
   "source": [
    "#type(len(test))"
   ]
  },
  {
   "cell_type": "code",
   "execution_count": 41,
   "id": "ef32792d",
   "metadata": {},
   "outputs": [],
   "source": [
    "#path_num=1\n",
    "#if(os.path.basename('exp1') == False):\n",
    " #   %cd runs/detect/exp\n",
    "  #  test = os.listdir() \n",
    "   # os.path.basename()\n",
    "#else if(os.path.basename('exp'+path_num+''))"
   ]
  },
  {
   "cell_type": "code",
   "execution_count": 42,
   "id": "7e6c5fe4",
   "metadata": {},
   "outputs": [],
   "source": [
    "#path_num = "
   ]
  },
  {
   "cell_type": "code",
   "execution_count": 43,
   "id": "e5318c31",
   "metadata": {},
   "outputs": [],
   "source": [
    "#os.listdir() "
   ]
  },
  {
   "cell_type": "code",
   "execution_count": 44,
   "id": "26a1f860",
   "metadata": {},
   "outputs": [],
   "source": [
    "#file_path = \"runs/\""
   ]
  },
  {
   "cell_type": "code",
   "execution_count": 45,
   "id": "2abad3d8",
   "metadata": {},
   "outputs": [],
   "source": [
    "#print(os.getcwd())"
   ]
  }
 ],
 "metadata": {
  "kernelspec": {
   "display_name": "test",
   "language": "python",
   "name": "test"
  },
  "language_info": {
   "codemirror_mode": {
    "name": "ipython",
    "version": 3
   },
   "file_extension": ".py",
   "mimetype": "text/x-python",
   "name": "python",
   "nbconvert_exporter": "python",
   "pygments_lexer": "ipython3",
   "version": "3.7.15"
  }
 },
 "nbformat": 4,
 "nbformat_minor": 5
}
